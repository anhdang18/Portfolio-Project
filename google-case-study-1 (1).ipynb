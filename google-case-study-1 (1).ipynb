{
 "cells": [
  {
   "cell_type": "markdown",
   "id": "d4b7de28",
   "metadata": {
    "papermill": {
     "duration": 0.014521,
     "end_time": "2021-12-03T02:18:13.078058",
     "exception": false,
     "start_time": "2021-12-03T02:18:13.063537",
     "status": "completed"
    },
    "tags": []
   },
   "source": [
    "# **Case Study: How Does a Bike-Share Navigate Speedy Success?**\n",
    "## Background:\n",
    "In 2016, Cyclistic launched a successful bike-share offering. Since then, the program has grown to a fleet of 5,824 bicycles that are geotracked and locked into a network of 692 stations across Chicago. The bikes can be unlocked from one station andreturned to any other station in the system anytime.\n",
    "\n",
    "Financial analysts in the company concluded that annual members are much more profitable than casual riders and advise top management to invest in a marketing strategy to convert casual riders to annual members through subscription. As a result, the marketing analysts need to better understand rider needs and trends from Cyclistic historical bike trip data.\n",
    "\n",
    "We will go through the phases of Data Analysis i.e. Ask, Prepare, Process, Analyze to advise whether the investment in the marketing strategy would be a good decision.\n",
    "### 1. Ask \n",
    "#### What problem is being solved?\n",
    "The business task at hand is to find out whether this marketing strategy is worth investing in. To get started, an analysis of the difference in usage of Cyclistic bikes between annual members and casual riders needs to be done.\n",
    "### Consider key stakeholders \n",
    "The key stakeholders are:\n",
    "* Cyclistic: A bike-share program that features more than 5,800 bicycles and 600 docking stations. Cyclistic sets itself apart by also offering reclining bikes, hand tricycles, and cargo bikes, making bike-share more inclusive to people with disabilities and riders who can’t use a standard two-wheeled bike. The majority of riders opt for traditional bikes; about 8% of riders use the assistive options. Cyclistic users are more likely to ride for leisure, but about 30% use them to commute to work each day.\n",
    "* Lily Moreno: The director of marketing and your manager. Moreno is responsible for the development of campaigns and initiatives to promote the bike-share program. These may include email, social media, and other channels.\n",
    "* Cyclistic marketing analytics team: A team of data analysts who are responsible for collecting, analyzing, and reporting data that helps guide Cyclistic marketing strategy. You joined this team six months ago and have been busy learning about Cyclistic’s mission and business goals — as well as how you, as a junior data analyst, can help Cyclistic achieve them.\n",
    "* Cyclistic executive team: The notoriously detail-oriented executive team will decide whether to approve the\n",
    "recommended marketing program.\n",
    "\n"
   ]
  },
  {
   "cell_type": "markdown",
   "id": "e92fa241",
   "metadata": {
    "papermill": {
     "duration": 0.012691,
     "end_time": "2021-12-03T02:18:13.108567",
     "exception": false,
     "start_time": "2021-12-03T02:18:13.095876",
     "status": "completed"
    },
    "tags": []
   },
   "source": [
    "### 2. Prepare\n",
    "We will use Cyclistic’s historical trip data to analyze and identify trends. This is public data that we can use to explore how different customer types are using Cyclistic bikes.\n",
    "First step is to import the datasets into R:"
   ]
  },
  {
   "cell_type": "code",
   "execution_count": 1,
   "id": "b308a2ec",
   "metadata": {
    "execution": {
     "iopub.execute_input": "2021-12-03T02:18:13.146728Z",
     "iopub.status.busy": "2021-12-03T02:18:13.143576Z",
     "iopub.status.idle": "2021-12-03T02:18:13.203510Z",
     "shell.execute_reply": "2021-12-03T02:18:13.202707Z",
     "shell.execute_reply.started": "2021-11-12T13:30:11.819879Z"
    },
    "papermill": {
     "duration": 0.081634,
     "end_time": "2021-12-03T02:18:13.203780",
     "exception": true,
     "start_time": "2021-12-03T02:18:13.122146",
     "status": "failed"
    },
    "tags": []
   },
   "outputs": [
    {
     "ename": "NameError",
     "evalue": "name 'library' is not defined",
     "output_type": "error",
     "traceback": [
      "\u001b[0;31m---------------------------------------------------------------------------\u001b[0m",
      "\u001b[0;31mNameError\u001b[0m                                 Traceback (most recent call last)",
      "\u001b[0;32m/tmp/ipykernel_19/178626833.py\u001b[0m in \u001b[0;36m<module>\u001b[0;34m\u001b[0m\n\u001b[1;32m      1\u001b[0m \u001b[0;31m#Load all necessary packages\u001b[0m\u001b[0;34m\u001b[0m\u001b[0;34m\u001b[0m\u001b[0;34m\u001b[0m\u001b[0m\n\u001b[0;32m----> 2\u001b[0;31m \u001b[0mlibrary\u001b[0m\u001b[0;34m(\u001b[0m\u001b[0;34m'tidyverse'\u001b[0m\u001b[0;34m)\u001b[0m\u001b[0;34m\u001b[0m\u001b[0;34m\u001b[0m\u001b[0m\n\u001b[0m\u001b[1;32m      3\u001b[0m \u001b[0mlibrary\u001b[0m\u001b[0;34m(\u001b[0m\u001b[0;34m'lubridate'\u001b[0m\u001b[0;34m)\u001b[0m\u001b[0;34m\u001b[0m\u001b[0;34m\u001b[0m\u001b[0m\n\u001b[1;32m      4\u001b[0m \u001b[0mlibrary\u001b[0m\u001b[0;34m(\u001b[0m\u001b[0;34m'ggplot2'\u001b[0m\u001b[0;34m)\u001b[0m\u001b[0;34m\u001b[0m\u001b[0;34m\u001b[0m\u001b[0m\n\u001b[1;32m      5\u001b[0m \u001b[0mlibrary\u001b[0m\u001b[0;34m(\u001b[0m\u001b[0;34m'dplyr'\u001b[0m\u001b[0;34m)\u001b[0m\u001b[0;34m\u001b[0m\u001b[0;34m\u001b[0m\u001b[0m\n",
      "\u001b[0;31mNameError\u001b[0m: name 'library' is not defined"
     ]
    }
   ],
   "source": [
    "#Load all necessary packages\n",
    "library('tidyverse')\n",
    "library('lubridate')\n",
    "library('ggplot2')\n",
    "library('dplyr')\n",
    "library('tidyr')\n",
    "library('readr')\n",
    "library('tibble')\n",
    "library('stringr')\n",
    "library('forcats')\n",
    "library('readxl')\n",
    "\n",
    "#Import data\n",
    "nov2020 <- read_csv(\"Desktop/data/202011-divvy-tripdata.csv\")\n",
    "dec2020 <- read_csv(\"Desktop/data/202012-divvy-tripdata.csv\")\n",
    "jan2021 <- read_csv(\"Desktop/data/202101-divvy-tripdata.csv\")\n",
    "feb2021 <- read_csv(\"Desktop/data/202102-divvy-tripdata.csv\")\n",
    "mar2021 <- read_csv(\"Desktop/data/202103-divvy-tripdata.csv\")\n",
    "apr2021 <- read_csv(\"Desktop/data/202104-divvy-tripdata.csv\")\n",
    "may2021 <- read_csv(\"Desktop/data/202105-divvy-tripdata.csv\")\n",
    "june2021 <- read_csv(\"Desktop/data/202106-divvy-tripdata.csv\")\n",
    "july2021 <- read_csv(\"Desktop/data/202107-divvy-tripdata.csv\")\n",
    "aug2021 <- read_csv(\"Desktop/data/202108-divvy-tripdata.csv\")\n",
    "sep2021 <- read_csv(\"Desktop/data/202109-divvy-tripdata.csv\")\n",
    "oct2021 <- read_csv(\"Desktop/data/202110-divvy-tripdata.csv\")\n"
   ]
  },
  {
   "cell_type": "markdown",
   "id": "ecf55094",
   "metadata": {
    "papermill": {
     "duration": null,
     "end_time": null,
     "exception": null,
     "start_time": null,
     "status": "pending"
    },
    "tags": []
   },
   "source": [
    "### 3. Process\n",
    "All the datasets had the same number of columns i.e. ride_id, rideable_type, started_at, ended_at, start_station_name, start_station_id, end_station_name, end_station_id, start_lat, start_lng, end_lat, end_lng, member_casual\\\n",
    "However, it is worth noting that start_station_id and end_station_id for datasets in 2021 were of string data type while those in 2020 were of Double (integer) data type. In order to combine all datasets, we need to have the fields to have the same data types. We will change the data types start_station_id and end_station_id for datasets in 2020 from double (integer) to string."
   ]
  },
  {
   "cell_type": "code",
   "execution_count": null,
   "id": "363084ad",
   "metadata": {
    "papermill": {
     "duration": null,
     "end_time": null,
     "exception": null,
     "start_time": null,
     "status": "pending"
    },
    "tags": []
   },
   "outputs": [],
   "source": [
    "#Mutate start_station_id and end_station_id for datasets in 2020 from integer to character\n",
    "nov2020 <- mutate(nov2020, start_station_id=as.character(start_station_id), end_station_id=as.character(end_station_id))\n",
    "dec2020 <- mutate(dec2020, start_station_id=as.character(start_station_id), end_station_id=as.character(end_station_id))\n",
    "\n",
    "#Combine all datasets together to dataset called all_trips\n",
    "all_trips <- rbind(nov2020, dec2020, jan2021, feb2021, mar2021, apr2021, may2021, june2021, july2021, aug2021, sep2021, oct2021)\n"
   ]
  },
  {
   "cell_type": "markdown",
   "id": "2291bd0d",
   "metadata": {
    "papermill": {
     "duration": null,
     "end_time": null,
     "exception": null,
     "start_time": null,
     "status": "pending"
    },
    "tags": []
   },
   "source": [
    "As part of preparing the data, we don't need fields such as start_lat, end_lat, start_lng and end_lng. We will recreate the same dataset without these fields\n",
    "\n"
   ]
  },
  {
   "cell_type": "code",
   "execution_count": null,
   "id": "1f952f7a",
   "metadata": {
    "papermill": {
     "duration": null,
     "end_time": null,
     "exception": null,
     "start_time": null,
     "status": "pending"
    },
    "tags": []
   },
   "outputs": [],
   "source": [
    "#remove the latitute and longitude fields\n",
    "all_trips <- all_trips %>%  \n",
    "  select(-c(start_lat, start_lng, end_lat, end_lng))\n",
    "\n",
    "#inspect the dataset to see if the fields have been removed\n",
    "colnames(all_trips)\n"
   ]
  },
  {
   "cell_type": "markdown",
   "id": "aaebbede",
   "metadata": {
    "papermill": {
     "duration": null,
     "end_time": null,
     "exception": null,
     "start_time": null,
     "status": "pending"
    },
    "tags": []
   },
   "source": [
    "### 4. Analyze  \n",
    "Now that we have a single dataset, we can improve our analysis by adding a calculated field to check on the trip duration (ride_length) and separating the date fields to day, month and year. As we carry out the analysis, we will eliminate negative trip durations. We will first start by adding columns for the date, the day of the week, the day, the month and the year. We will then add the calculated field for trip duration i.e. ride_length"
   ]
  },
  {
   "cell_type": "code",
   "execution_count": null,
   "id": "ff60d883",
   "metadata": {
    "papermill": {
     "duration": null,
     "end_time": null,
     "exception": null,
     "start_time": null,
     "status": "pending"
    },
    "tags": []
   },
   "outputs": [],
   "source": [
    "#add columns for date, day of the week, day, month and year\n",
    "all_trips$date <- as.Date(all_trips$started_at) \n",
    "all_trips$day_of_week <- format(as.Date(all_trips$date), \"%A\")\n",
    "all_trips$day <- format(as.Date(all_trips$date), \"%d\")\n",
    "all_trips$month <- format(as.Date(all_trips$date), \"%m\")\n",
    "all_trips$year <- format(as.Date(all_trips$date), \"%Y\")\n",
    "\n",
    "#add calculated field for ride_length\n",
    "all_trips<-all_trips %>%\n",
    "mutate (ride_length=difftime(ended_at, started_at))\n",
    "\n",
    "# Convert \"ride_length\" to numeric so help us perform calculations on data\n",
    "all_trips$ride_length <- as.numeric(as.character(all_trips$ride_length))"
   ]
  },
  {
   "cell_type": "markdown",
   "id": "91380113",
   "metadata": {
    "papermill": {
     "duration": null,
     "end_time": null,
     "exception": null,
     "start_time": null,
     "status": "pending"
    },
    "tags": []
   },
   "source": [
    "We want to concentrate on trip durations that are greater than zero. We will therefore, create a new dataset specifying trip durations (ride_length) greater than 0"
   ]
  },
  {
   "cell_type": "code",
   "execution_count": null,
   "id": "5d56af0a",
   "metadata": {
    "papermill": {
     "duration": null,
     "end_time": null,
     "exception": null,
     "start_time": null,
     "status": "pending"
    },
    "tags": []
   },
   "outputs": [],
   "source": [
    "all_tripsv2 <- all_trips[!(all_trips$ride_length <= 0),]"
   ]
  },
  {
   "cell_type": "markdown",
   "id": "43a142fa",
   "metadata": {
    "papermill": {
     "duration": null,
     "end_time": null,
     "exception": null,
     "start_time": null,
     "status": "pending"
    },
    "tags": []
   },
   "source": [
    "We can get mean, median, max and minimum ride_length by using the summary() function as below:\n",
    "\n"
   ]
  },
  {
   "cell_type": "code",
   "execution_count": null,
   "id": "5bf5c0dd",
   "metadata": {
    "papermill": {
     "duration": null,
     "end_time": null,
     "exception": null,
     "start_time": null,
     "status": "pending"
    },
    "tags": []
   },
   "outputs": [],
   "source": [
    "summary(all_tripsv2$ride_length)"
   ]
  },
  {
   "cell_type": "markdown",
   "id": "3b11f879",
   "metadata": {
    "papermill": {
     "duration": null,
     "end_time": null,
     "exception": null,
     "start_time": null,
     "status": "pending"
    },
    "tags": []
   },
   "source": [
    "We can further do comparison of the mean, median, maximum and minimum ride_length by the type of rider i.e. member or casual."
   ]
  },
  {
   "cell_type": "code",
   "execution_count": null,
   "id": "f58c8076",
   "metadata": {
    "papermill": {
     "duration": null,
     "end_time": null,
     "exception": null,
     "start_time": null,
     "status": "pending"
    },
    "tags": []
   },
   "outputs": [],
   "source": [
    "aggregate(all_tripsv2$ride_length ~ all_tripsv2$member_casual, FUN = mean)\n",
    "aggregate(all_tripsv2$ride_length ~ all_tripsv2$member_casual, FUN = median)\n",
    "aggregate(all_tripsv2$ride_length ~ all_tripsv2$member_casual, FUN = max)\n",
    "aggregate(all_tripsv2$ride_length ~ all_tripsv2$member_casual, FUN = min)"
   ]
  },
  {
   "cell_type": "markdown",
   "id": "4ba8fdf2",
   "metadata": {
    "papermill": {
     "duration": null,
     "end_time": null,
     "exception": null,
     "start_time": null,
     "status": "pending"
    },
    "tags": []
   },
   "source": [
    "Generally, the average trip duration for casual riders is higher (1953.644) than that of members who have a subscription (837.854)\n",
    "\n",
    "We can further analyze the data by finding out the average ride length for each type of rider (casual or member) by the day of the week."
   ]
  },
  {
   "cell_type": "code",
   "execution_count": null,
   "id": "d30a3efc",
   "metadata": {
    "papermill": {
     "duration": null,
     "end_time": null,
     "exception": null,
     "start_time": null,
     "status": "pending"
    },
    "tags": []
   },
   "outputs": [],
   "source": [
    "#Order the days of the week starting with Sunday\n",
    "all_tripsv2$day_of_week <- ordered(all_tripsv2$day_of_week, levels=c(\"Sunday\", \"Monday\", \"Tuesday\", \"Wednesday\", \"Thursday\", \"Friday\", \"Saturday\"))\n",
    "\n",
    "#average ride time by each day for members vs casual\n",
    "aggregate(all_tripsv2$ride_length ~ all_tripsv2$member_casual + all_tripsv2$day_of_week, FUN = mean)\n"
   ]
  },
  {
   "cell_type": "markdown",
   "id": "fd2352fa",
   "metadata": {
    "papermill": {
     "duration": null,
     "end_time": null,
     "exception": null,
     "start_time": null,
     "status": "pending"
    },
    "tags": []
   },
   "source": [
    "The day with the highest average trip duration for casual riders was Thursday (3142.16) while the day with the highest average trip duration for members was Sunday (1139.29)\n",
    "\n",
    "We can also summarize the ridership data by type of rider and weekday while at the same time calculcate the number of rides and the average duration"
   ]
  },
  {
   "cell_type": "code",
   "execution_count": null,
   "id": "d0ca497c",
   "metadata": {
    "papermill": {
     "duration": null,
     "end_time": null,
     "exception": null,
     "start_time": null,
     "status": "pending"
    },
    "tags": []
   },
   "outputs": [],
   "source": [
    "all_tripsv2 %>% \n",
    "  mutate(weekday = wday(started_at, label = TRUE)) %>%  #creates weekday field using wday()\n",
    "  group_by(member_casual, weekday) %>%  #groups by usertype and weekday\n",
    "  summarise(number_of_rides = n()  #calculates the number of rides  \n",
    "  ,average_duration = mean(ride_length)) %>% # calculates the average duration\n",
    "  arrange(member_casual, weekday)  # sorts"
   ]
  },
  {
   "cell_type": "markdown",
   "id": "5817eb48",
   "metadata": {
    "papermill": {
     "duration": null,
     "end_time": null,
     "exception": null,
     "start_time": null,
     "status": "pending"
    },
    "tags": []
   },
   "source": [
    "The above data can be visualized using comparative bar graphs where we plot the weekday against the number of rides."
   ]
  },
  {
   "cell_type": "code",
   "execution_count": null,
   "id": "3888d997",
   "metadata": {
    "papermill": {
     "duration": null,
     "end_time": null,
     "exception": null,
     "start_time": null,
     "status": "pending"
    },
    "tags": []
   },
   "outputs": [],
   "source": [
    "all_tripsv2 %>% \n",
    "  mutate(weekday = wday(started_at, label = TRUE)) %>% \n",
    "  group_by(member_casual, weekday) %>% \n",
    "  summarise(number_of_rides = n()\n",
    "            ,average_duration = mean(ride_length)) %>% \n",
    "  arrange(member_casual, weekday)  %>% \n",
    "  ggplot(aes(x = weekday, y = number_of_rides, fill = member_casual)) +\n",
    "  geom_col(position = \"dodge\")"
   ]
  },
  {
   "cell_type": "markdown",
   "id": "1d34212b",
   "metadata": {
    "papermill": {
     "duration": null,
     "end_time": null,
     "exception": null,
     "start_time": null,
     "status": "pending"
    },
    "tags": []
   },
   "source": [
    "From the above bar graph, we can conclude that rides for casual riders are highest over the weekends while rides for subscription members are highest during working days.\n",
    "\n",
    "We can also create comparative bar graphs for average duration of rides"
   ]
  },
  {
   "cell_type": "code",
   "execution_count": null,
   "id": "08a6b8b9",
   "metadata": {
    "papermill": {
     "duration": null,
     "end_time": null,
     "exception": null,
     "start_time": null,
     "status": "pending"
    },
    "tags": []
   },
   "outputs": [],
   "source": [
    "all_tripsv2 %>% \n",
    "  mutate(weekday = wday(started_at, label = TRUE)) %>% \n",
    "  group_by(member_casual, weekday) %>% \n",
    "  summarise(number_of_rides = n()\n",
    "            ,average_duration = mean(ride_length)) %>% \n",
    "  arrange(member_casual, weekday)  %>% \n",
    "  ggplot(aes(x = weekday, y = average_duration, fill = member_casual)) +\n",
    "  geom_col(position = \"dodge\")"
   ]
  },
  {
   "cell_type": "markdown",
   "id": "b58fc872",
   "metadata": {
    "papermill": {
     "duration": null,
     "end_time": null,
     "exception": null,
     "start_time": null,
     "status": "pending"
    },
    "tags": []
   },
   "source": [
    "Generally, the trip duration for casual riders is higher than the trip duration for subscription members. So the company should focus more on casual riders"
   ]
  }
 ],
 "metadata": {
  "kernelspec": {
   "display_name": "Python 3",
   "language": "python",
   "name": "python3"
  },
  "language_info": {
   "codemirror_mode": {
    "name": "ipython",
    "version": 3
   },
   "file_extension": ".py",
   "mimetype": "text/x-python",
   "name": "python",
   "nbconvert_exporter": "python",
   "pygments_lexer": "ipython3",
   "version": "3.7.10"
  },
  "papermill": {
   "default_parameters": {},
   "duration": 8.584459,
   "end_time": "2021-12-03T02:18:13.827571",
   "environment_variables": {},
   "exception": true,
   "input_path": "__notebook__.ipynb",
   "output_path": "__notebook__.ipynb",
   "parameters": {},
   "start_time": "2021-12-03T02:18:05.243112",
   "version": "2.3.3"
  }
 },
 "nbformat": 4,
 "nbformat_minor": 5
}
