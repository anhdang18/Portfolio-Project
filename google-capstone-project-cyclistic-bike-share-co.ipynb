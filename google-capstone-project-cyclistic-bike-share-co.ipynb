{
 "cells": [
  {
   "cell_type": "markdown",
   "metadata": {},
   "source": [
    "# Analysis of Cyclists Rides for Cyclistic Bike Share Company\n"
   ]
  },
  {
   "cell_type": "markdown",
   "metadata": {},
   "source": [
    "**Background**\n",
    "\n",
    "In 2016, Cyclistic launched a successful bike-share offering. Since then, the program has grown to a fleet of 5,824 bicycles that are geotracked and locked into a network of 692 stations across Chicago. The bikes can be unlocked from one station andreturned to any other station in the system anytime.\n",
    "\n",
    "Financial analysts in the company concluded that annual members are much more profitable than casual riders and advise top management to invest in a marketing strategy to convert casual riders to annual members through subscription. As a result, the marketing analysts need to better understand rider needs and trends from Cyclistic historical bike trip data.\n",
    "\n",
    "We will go through the phases of Data Analysis i.e. Ask, Prepare, Process, Analyze,Share and Act to advise whether the investment in the marketing strategy would be a good decision.\n",
    "\n",
    "**1. Ask - What problem is being solved?**\n",
    "The business task at hand is to find out whether this marketing strategy is worth investing in. To get started, an analysis of the difference in usage of Cyclistic bikes between annual members and casual riders needs to be done.\n",
    "\n",
    "\n",
    "**2. Prepare** - The data used for this analysis was obtained from a public dataset stored within the Amazon Simple Storage Service (Amazon S3). The link is provided below:\n",
    "[Cyclistic Ride Data](https://divvy-tripdata.s3.amazonaws.com/index.html)\n",
    "12-month data (from June 2020 to May 2021) was used to carry out the analysis\n",
    "\n",
    "As part of the preparation of data, the following is done:\n",
    "* the various datasets are imported to R\n",
    "* the structure of the datasets are analyzed to ensure consistency \n"
   ]
  },
  {
   "cell_type": "code",
   "execution_count": null,
   "metadata": {
    "execution": {
     "iopub.execute_input": "2021-06-25T18:30:47.649121Z",
     "iopub.status.busy": "2021-06-25T18:30:47.647289Z",
     "iopub.status.idle": "2021-06-25T18:31:09.893957Z"
    }
   },
   "outputs": [],
   "source": [
    "#Load the necessary packages\n",
    "library(tidyverse)\n",
    "library(lubridate)\n",
    "library(ggplot2)\n",
    "library(dplyr)\n",
    "library(tidyr)\n",
    "library(readr)\n",
    "library(tibble)\n",
    "library(stringr)\n",
    "library(forcats)\n",
    "library(readxl)\n",
    "\n",
    "#import the various datasets\n",
    "june2020<-read_csv(\"../input/cyclistic-trip-data/202006-divvy-tripdata.csv\")\n",
    "july2020<-read_csv(\"../input/cyclistic-trip-data/202007-divvy-tripdata.csv\")\n",
    "aug2020<-read_csv(\"../input/cyclistic-trip-data/202008-divvy-tripdata.csv\")\n",
    "sep2020<-read_csv(\"../input/cyclistic-trip-data/202009-divvy-tripdata.csv\")\n",
    "oct2020<-read_csv(\"../input/cyclistic-trip-data/202010-divvy-tripdata.csv\")\n",
    "nov2020<-read_csv(\"../input/cyclistic-trip-data/202011-divvy-tripdata.csv\")\n",
    "dec2020<-read_csv(\"../input/cyclistic-trip-data/202012-divvy-tripdata.csv\")\n",
    "jan2021<-read_csv(\"../input/cyclistic-trip-data/202101-divvy-tripdata.csv\")\n",
    "feb2021<-read_csv(\"../input/cyclistic-trip-data/202102-divvy-tripdata.csv\")\n",
    "mar2021<-read_csv(\"../input/cyclistic-trip-data/202103-divvy-tripdata.csv\")\n",
    "apr2021<-read_csv(\"../input/cyclistic-trip-data/202104-divvy-tripdata.csv\")\n",
    "may2021<-read_csv(\"../input/cyclistic-trip-data/202105-divvy-tripdata.csv\")\n"
   ]
  },
  {
   "cell_type": "markdown",
   "metadata": {},
   "source": [
    "All the datasets had the same number of columns i.e.\n",
    "ride_id,\n",
    "rideable_type,\n",
    "started_at,\n",
    "ended_at,\n",
    "start_station_name,\n",
    "start_station_id,\n",
    "end_station_name,\n",
    "end_station_id,\n",
    "start_lat,\n",
    "start_lng,\n",
    "end_lat,\n",
    "end_lng,\n",
    "member_casual\n",
    "\n",
    "However, it is worth noting that start_station_id and end_station_id for datasets in 2021 were of string data type while those in 2020 were of Double (integer) data type.\n",
    "In order to combine all datasets, we need to have the fields to have the same data types. \n",
    "We will change the data types start_station_id and end_station_id for datasets in 2020 from double (integer) to string."
   ]
  },
  {
   "cell_type": "code",
   "execution_count": null,
   "metadata": {
    "execution": {
     "iopub.execute_input": "2021-06-25T17:52:02.526892Z",
     "iopub.status.busy": "2021-06-25T17:52:02.525261Z",
     "iopub.status.idle": "2021-06-25T17:52:07.727644Z"
    }
   },
   "outputs": [],
   "source": [
    "#Convert start_station_id and end_station_id for datasets in 2020 from integer to character\n",
    "june2020 <- mutate(june2020, start_station_id=as.character(start_station_id), end_station_id=as.character(end_station_id))\n",
    "july2020 <- mutate(june2020, start_station_id=as.character(start_station_id), end_station_id=as.character(end_station_id))\n",
    "aug2020 <- mutate(june2020, start_station_id=as.character(start_station_id), end_station_id=as.character(end_station_id))\n",
    "sep2020 <- mutate(june2020, start_station_id=as.character(start_station_id), end_station_id=as.character(end_station_id))\n",
    "oct2020 <- mutate(june2020, start_station_id=as.character(start_station_id), end_station_id=as.character(end_station_id))\n",
    "nov2020 <- mutate(june2020, start_station_id=as.character(start_station_id), end_station_id=as.character(end_station_id))\n",
    "dec2020 <- mutate(june2020, start_station_id=as.character(start_station_id), end_station_id=as.character(end_station_id))\n",
    "\n",
    "#Combine all datasets together to dataset called all_trips\n",
    "all_trips <- rbind(june2020, july2020, aug2020, sep2020, oct2020, nov2020, dec2020, jan2021, feb2021, mar2021, apr2021, may2021)"
   ]
  },
  {
   "cell_type": "markdown",
   "metadata": {},
   "source": [
    "A backup of the combined dataset (all_trips) can be exported to a text document using write.table(all_trips, \"Alltrips.txt\", sep=\"\\t\").\n",
    "\n",
    "As part of preparing the data, we don't need fields such as start_lat, end_lat, start_lng and end_lng. We will recreate the same dataset without these fields"
   ]
  },
  {
   "cell_type": "code",
   "execution_count": null,
   "metadata": {
    "execution": {
     "iopub.execute_input": "2021-06-25T17:52:15.017155Z",
     "iopub.status.busy": "2021-06-25T17:52:15.015588Z",
     "iopub.status.idle": "2021-06-25T17:52:15.044009Z"
    }
   },
   "outputs": [],
   "source": [
    "#remove the latitute and longitude fields\n",
    "all_trips <- all_trips %>%  \n",
    "  select(-c(start_lat, start_lng, end_lat, end_lng))\n",
    "\n",
    "#inspect the dataset to see if the fields have been removed\n",
    "colnames(all_trips)"
   ]
  },
  {
   "cell_type": "markdown",
   "metadata": {},
   "source": [
    "**3. Analyze** - Now that we have a single dataset, we can improve our analysis by adding a calculated field to check on the trip duration (ride_length) and separating the date fields to day, month and year. As we carry out the analysis, we will eliminate negative trip durations. We will first start by adding columns for the date, the day of the week, the day, the month and the year. We will then add the calculated field for trip duration i.e. ride_length"
   ]
  },
  {
   "cell_type": "code",
   "execution_count": null,
   "metadata": {
    "execution": {
     "iopub.execute_input": "2021-06-25T17:52:36.131509Z",
     "iopub.status.busy": "2021-06-25T17:52:36.129916Z",
     "iopub.status.idle": "2021-06-25T17:52:46.025917Z"
    }
   },
   "outputs": [],
   "source": [
    "#add columns for date, day of the week, day, month and year\n",
    "all_trips$date <- as.Date(all_trips$started_at) \n",
    "all_trips$day_of_week <- format(as.Date(all_trips$date), \"%A\")\n",
    "all_trips$day <- format(as.Date(all_trips$date), \"%d\")\n",
    "all_trips$month <- format(as.Date(all_trips$date), \"%m\")\n",
    "all_trips$year <- format(as.Date(all_trips$date), \"%Y\")\n",
    "\n",
    "#add calculated field for ride_length\n",
    "all_trips<-all_trips %>%\n",
    "mutate (ride_length=difftime(ended_at, started_at))\n",
    "\n",
    "# Convert \"ride_length\" to numeric so help us perform calculations on data\n",
    "all_trips$ride_length <- as.numeric(as.character(all_trips$ride_length))"
   ]
  },
  {
   "cell_type": "markdown",
   "metadata": {},
   "source": [
    "**NB: The value in ride_length is in seconds**\n",
    "\n",
    "We want to concentrate on trip durations that are greater than zero. We will therefore, create a new dataset specifying trip durations (ride_length) greater than 0"
   ]
  },
  {
   "cell_type": "code",
   "execution_count": null,
   "metadata": {
    "execution": {
     "iopub.execute_input": "2021-06-25T17:52:55.425821Z",
     "iopub.status.busy": "2021-06-25T17:52:55.424202Z",
     "iopub.status.idle": "2021-06-25T17:52:55.903851Z"
    }
   },
   "outputs": [],
   "source": [
    "all_tripsv2 <- all_trips[!(all_trips$ride_length <= 0),]"
   ]
  },
  {
   "cell_type": "markdown",
   "metadata": {},
   "source": [
    "We can get mean, median, max and minimum ride_length by using the summary() function as below:"
   ]
  },
  {
   "cell_type": "code",
   "execution_count": null,
   "metadata": {
    "execution": {
     "iopub.execute_input": "2021-06-25T17:53:02.010152Z",
     "iopub.status.busy": "2021-06-25T17:53:02.008596Z",
     "iopub.status.idle": "2021-06-25T17:53:02.239562Z"
    }
   },
   "outputs": [],
   "source": [
    "summary(all_tripsv2$ride_length)"
   ]
  },
  {
   "cell_type": "markdown",
   "metadata": {},
   "source": [
    "We can further do comparison of the mean, median, maximum and minimum ride_length by the type of rider i.e. member or casual."
   ]
  },
  {
   "cell_type": "code",
   "execution_count": null,
   "metadata": {
    "execution": {
     "iopub.execute_input": "2021-06-25T17:53:07.474882Z",
     "iopub.status.busy": "2021-06-25T17:53:07.473363Z",
     "iopub.status.idle": "2021-06-25T17:53:14.648936Z"
    }
   },
   "outputs": [],
   "source": [
    "aggregate(all_tripsv2$ride_length ~ all_tripsv2$member_casual, FUN = mean)\n",
    "aggregate(all_tripsv2$ride_length ~ all_tripsv2$member_casual, FUN = median)\n",
    "aggregate(all_tripsv2$ride_length ~ all_tripsv2$member_casual, FUN = max)\n",
    "aggregate(all_tripsv2$ride_length ~ all_tripsv2$member_casual, FUN = min)\n"
   ]
  },
  {
   "cell_type": "markdown",
   "metadata": {},
   "source": [
    "Generally, the average trip duration for casual riders is higher (2837.81) than that of members who have a subscription (1033.0)"
   ]
  },
  {
   "cell_type": "markdown",
   "metadata": {},
   "source": [
    "We can further analyze the data by finding out the average ride length for each type of rider (casual or member) by the day of the week."
   ]
  },
  {
   "cell_type": "code",
   "execution_count": null,
   "metadata": {
    "execution": {
     "iopub.execute_input": "2021-06-25T17:53:23.217602Z",
     "iopub.status.busy": "2021-06-25T17:53:23.216001Z",
     "iopub.status.idle": "2021-06-25T17:53:25.453395Z"
    }
   },
   "outputs": [],
   "source": [
    "#Order the days of the week starting with Sunday\n",
    "all_tripsv2$day_of_week <- ordered(all_tripsv2$day_of_week, levels=c(\"Sunday\", \"Monday\", \"Tuesday\", \"Wednesday\", \"Thursday\", \"Friday\", \"Saturday\"))\n",
    "\n",
    "#average ride time by each day for members vs casual\n",
    "aggregate(all_tripsv2$ride_length ~ all_tripsv2$member_casual + all_tripsv2$day_of_week, FUN = mean)"
   ]
  },
  {
   "cell_type": "markdown",
   "metadata": {},
   "source": [
    "The day with the highest average trip duration for casual riders was Thursday (3142.16) while the day with the highest average trip duration for members was Sunday (1139.29)"
   ]
  },
  {
   "cell_type": "markdown",
   "metadata": {},
   "source": [
    "We can also summarize the ridership data by type of rider and weekday while at the same time calculcate the number of rides and the average duration"
   ]
  },
  {
   "cell_type": "code",
   "execution_count": null,
   "metadata": {
    "execution": {
     "iopub.execute_input": "2021-06-25T17:53:55.880227Z",
     "iopub.status.busy": "2021-06-25T17:53:55.878523Z",
     "iopub.status.idle": "2021-06-25T17:53:59.910915Z"
    }
   },
   "outputs": [],
   "source": [
    "all_tripsv2 %>% \n",
    "  mutate(weekday = wday(started_at, label = TRUE)) %>%  #creates weekday field using wday()\n",
    "  group_by(member_casual, weekday) %>%  #groups by usertype and weekday\n",
    "  summarise(number_of_rides = n()  #calculates the number of rides  \n",
    "  ,average_duration = mean(ride_length)) %>% # calculates the average duration\n",
    "  arrange(member_casual, weekday)  # sorts"
   ]
  },
  {
   "cell_type": "markdown",
   "metadata": {},
   "source": [
    "The above data can be visualized using comparative bar graphs where we plot the weekday against the number of rides."
   ]
  },
  {
   "cell_type": "code",
   "execution_count": null,
   "metadata": {
    "execution": {
     "iopub.execute_input": "2021-06-25T17:54:09.838152Z",
     "iopub.status.busy": "2021-06-25T17:54:09.83653Z",
     "iopub.status.idle": "2021-06-25T17:54:13.9566Z"
    }
   },
   "outputs": [],
   "source": [
    "all_tripsv2 %>% \n",
    "  mutate(weekday = wday(started_at, label = TRUE)) %>% \n",
    "  group_by(member_casual, weekday) %>% \n",
    "  summarise(number_of_rides = n()\n",
    "            ,average_duration = mean(ride_length)) %>% \n",
    "  arrange(member_casual, weekday)  %>% \n",
    "  ggplot(aes(x = weekday, y = number_of_rides, fill = member_casual)) +\n",
    "  geom_col(position = \"dodge\")\n"
   ]
  },
  {
   "cell_type": "markdown",
   "metadata": {},
   "source": [
    "From the above bar graph, we can conclude that rides for casual riders are highest over the weekends while rides for subscription members are highest during working days."
   ]
  },
  {
   "cell_type": "markdown",
   "metadata": {},
   "source": [
    "We can also create comparative bar graphs for average duration of rides"
   ]
  },
  {
   "cell_type": "code",
   "execution_count": null,
   "metadata": {
    "execution": {
     "iopub.execute_input": "2021-06-25T17:54:23.212751Z",
     "iopub.status.busy": "2021-06-25T17:54:23.211086Z",
     "iopub.status.idle": "2021-06-25T17:54:27.315687Z"
    }
   },
   "outputs": [],
   "source": [
    "all_tripsv2 %>% \n",
    "  mutate(weekday = wday(started_at, label = TRUE)) %>% \n",
    "  group_by(member_casual, weekday) %>% \n",
    "  summarise(number_of_rides = n()\n",
    "            ,average_duration = mean(ride_length)) %>% \n",
    "  arrange(member_casual, weekday)  %>% \n",
    "  ggplot(aes(x = weekday, y = average_duration, fill = member_casual)) +\n",
    "  geom_col(position = \"dodge\")\n"
   ]
  },
  {
   "cell_type": "markdown",
   "metadata": {},
   "source": [
    "Generally, the trip duration for casual riders is higher than the trip duration for subscription members."
   ]
  }
 ],
 "metadata": {
  "kernelspec": {
   "display_name": "R",
   "language": "R",
   "name": "ir"
  },
  "language_info": {
   "codemirror_mode": "r",
   "file_extension": ".r",
   "mimetype": "text/x-r-source",
   "name": "R",
   "pygments_lexer": "r",
   "version": "4.0.5"
  }
 },
 "nbformat": 4,
 "nbformat_minor": 4
}
